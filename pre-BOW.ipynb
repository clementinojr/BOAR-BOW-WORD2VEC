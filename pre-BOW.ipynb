{
 "cells": [
  {
   "cell_type": "code",
   "execution_count": 1,
   "metadata": {},
   "outputs": [],
   "source": [
    "import json\n",
    "import re\n",
    "import pandas as pd\n",
    "import numpy as np\n",
    "from sklearn.feature_extraction.text import CountVectorizer, TfidfVectorizer\n",
    "from sklearn.cluster import AgglomerativeClustering\n",
    "from time import gmtime, strftime\n",
    "from datetime import datetime\n"
   ]
  },
  {
   "cell_type": "code",
   "execution_count": 2,
   "metadata": {},
   "outputs": [],
   "source": [
    "#Reading file provide SQL\n",
    "def read_csv(name_df,path):\n",
    "    name_df = pd.read_csv(path+\".csv\",index_col=0)\n",
    "    return name_df\n",
    "#df = pd.read_csv(\"data-1579021640655.csv\") \n",
    "\n",
    "#delete column or columns from a data frame\n",
    "#   --argument:\n",
    "#    --dataframe name \n",
    "#    --columns names\n",
    "def delete_column_df(df_name,*args):\n",
    "    for name_col in args:\n",
    "        df_name = df_name.drop(columns=[name_col])\n",
    "    return df_name        \n",
    "\n",
    "#Transform dataframe to array_np to calculate idf\n",
    "def df_to_array_np(name_df):\n",
    "    name_array=name_df.to_numpy().astype(np.float)\n",
    "    return name_array\n",
    "#exclude repeated attributes from the list\n",
    "def exclude_repeated_att(list_att):\n",
    "    update_list = list(dict.fromkeys(list_att))\n",
    "    return update_list\n"
   ]
  },
  {
   "cell_type": "code",
   "execution_count": 3,
   "metadata": {},
   "outputs": [],
   "source": [
    "df= read_csv('df','data')\n",
    "#df = df.head(45720)#-----------------\n",
    "df_original = df\n",
    "df_original.sort_values('visit_id', inplace=True, ascending=True ,kind='mergesort')\n",
    "df_a = df\n",
    "array_id2 =df_a['visit_id'].values"
   ]
  },
  {
   "cell_type": "code",
   "execution_count": 4,
   "metadata": {},
   "outputs": [],
   "source": [
    "#-----------------------Pre-processing - Cada procedimento será um atributo na tabela  --------# \n",
    "arr = []\n",
    "arr_t=[]\n",
    "count=0\n",
    "for i, row in df.iterrows():\n",
    "    obj = json.loads(row['internacao_json'])\n",
    "    string_concept = ''\n",
    "    arr_t.append(obj['visit_concept_name'])\n",
    "    string_concept+=obj['visit_concept_name']+'&'\n",
    "    #id = str(obj['visit_occurrence_id'])\n",
    "    if(obj['procedimentos'] != None):\n",
    "        for procedure_name in obj['procedimentos']:\n",
    "            nome_do_procedimento = str(procedure_name['procedure_ocurrence_concept_name'])\n",
    "            string_concept += nome_do_procedimento + \"&\"\n",
    "            arr_t.append(nome_do_procedimento)\n",
    "    else:\n",
    "        count+=1\n",
    "    arr.append(string_concept)\n"
   ]
  },
  {
   "cell_type": "code",
   "execution_count": 5,
   "metadata": {},
   "outputs": [],
   "source": [
    "#----------------------------------Pegar id + nome das ocorrencias(AUX no Mapeamento Final)-------------#\n",
    "count=0\n",
    "linhas =0\n",
    "sera =0\n",
    "laco_for=0\n",
    "#--------LEMBRAR de concatenar --------#string_conc_oco= \"\"\n",
    "#df_id_name_ocorrence = pd.DataFrame(['ID_visit','Nome_Procedimento'],[0,0])\n",
    "df_id_name_ocorrence = pd.DataFrame()\n",
    "lista_concep_name_ocorrencia=[]\n",
    "id_visit=[]\n",
    "cod_ocorrencia =[]\n",
    "for i, row in df.iterrows():\n",
    "    linhas+=1\n",
    "    \n",
    "    obj = json.loads(row['internacao_json'])\n",
    "   \n",
    "    if(obj['ocorrencias'] != None):\n",
    "        laco_for +=1\n",
    "        for procedure_name in obj['ocorrencias']:\n",
    "            nome_do_procedimento = str(procedure_name['condition_ocurrence_concept_name'])\n",
    "            lista_concep_name_ocorrencia.append(nome_do_procedimento)\n",
    "            codigo_oco= str(procedure_name['condition_concept_id'])\n",
    "            cod_ocorrencia.append(codigo_oco)\n",
    "            id_visit.append(row['visit_id'])         \n",
    "        \n",
    "    else:\n",
    "        lista_concep_name_ocorrencia.append(\"NULO\")\n",
    "        cod_ocorrencia.append(\"00000000000\")\n",
    "        id_visit.append(row['visit_id'] )\n",
    "        \n",
    "        count+=1\n",
    "#----------------------------------Criando para o MAPEAMENTO Final----------#\n",
    "list_of_tuples = list(zip(id_visit, cod_ocorrencia,lista_concep_name_ocorrencia))\n",
    "df_id_nome_concept = pd.DataFrame(list_of_tuples, columns = ['ID_visita','Cod_Ocorrencia' ,'Nome_Ocorrencia']) \n",
    "\n",
    "\n",
    "#-------------------Pre-processing- Manter apenas Letra e numero------------# \n",
    "#input = arr_t\n",
    "#arr_t = [x.lower() for x in input] \n",
    "\n",
    "#input1 = arr\n",
    "#arr = [x.lower() for x in input1] \n",
    "\n",
    "#arr_t = exclude_repeated_att(arr_t)\n",
    "#arr_t\n",
    "#print(len(arr_t))\n",
    "\n",
    "#arr = [re.sub(' +', ' ', elem) for elem in arr]\n",
    "#arr = [re.sub(\"[^A-Za-z\\d\\&]\", \"_\", elem) for elem in arr]\n",
    "\n",
    "\n",
    "\n",
    "\n",
    "\n",
    "#---------------------- Pre-processing---- para lidar apenas como uma unica palavra, trocando sepador para o metodo IDFID___\n",
    "arr = list(map(lambda s: s.replace('&' , ' '), arr))\n",
    "#print(len(arr))\n"
   ]
  },
  {
   "cell_type": "code",
   "execution_count": 18,
   "metadata": {},
   "outputs": [
    {
     "name": "stdout",
     "output_type": "stream",
     "text": [
      "      125   19   1o   24   67  67ga   72   ab  abdomem  abdomen  ...  \\\n",
      "0     0.0  0.0  0.0  0.0  0.0   0.0  0.0  0.0      0.0      0.0  ...   \n",
      "1     0.0  0.0  0.0  0.0  0.0   0.0  0.0  0.0      0.0      0.0  ...   \n",
      "2     0.0  0.0  0.0  0.0  0.0   0.0  0.0  0.0      0.0      0.0  ...   \n",
      "3     0.0  0.0  0.0  0.0  0.0   0.0  0.0  0.0      0.0      0.0  ...   \n",
      "4     0.0  0.0  0.0  0.0  0.0   0.0  0.0  0.0      0.0      0.0  ...   \n",
      "...   ...  ...  ...  ...  ...   ...  ...  ...      ...      ...  ...   \n",
      "5527  0.0  0.0  0.0  0.0  0.0   0.0  0.0  0.0      0.0      0.0  ...   \n",
      "5528  0.0  0.0  0.0  0.0  0.0   0.0  0.0  0.0      0.0      0.0  ...   \n",
      "5529  0.0  0.0  0.0  0.0  0.0   0.0  0.0  0.0      0.0      0.0  ...   \n",
      "5530  0.0  0.0  0.0  0.0  0.0   0.0  0.0  0.0      0.0      0.0  ...   \n",
      "5531  0.0  0.0  0.0  0.0  0.0   0.0  0.0  0.0      0.0      0.0  ...   \n",
      "\n",
      "          vias  vii  viiic     visit  vitais  vitamina   vp  western   xi  xii  \n",
      "0     0.000000  0.0    0.0  0.285849     0.0       0.0  0.0      0.0  0.0  0.0  \n",
      "1     0.000000  0.0    0.0  0.203310     0.0       0.0  0.0      0.0  0.0  0.0  \n",
      "2     0.000000  0.0    0.0  0.266727     0.0       0.0  0.0      0.0  0.0  0.0  \n",
      "3     0.241835  0.0    0.0  0.046830     0.0       0.0  0.0      0.0  0.0  0.0  \n",
      "4     0.000000  0.0    0.0  0.187780     0.0       0.0  0.0      0.0  0.0  0.0  \n",
      "...        ...  ...    ...       ...     ...       ...  ...      ...  ...  ...  \n",
      "5527  0.000000  0.0    0.0  0.048307     0.0       0.0  0.0      0.0  0.0  0.0  \n",
      "5528  0.000000  0.0    0.0  0.285849     0.0       0.0  0.0      0.0  0.0  0.0  \n",
      "5529  0.000000  0.0    0.0  0.266727     0.0       0.0  0.0      0.0  0.0  0.0  \n",
      "5530  0.000000  0.0    0.0  0.285849     0.0       0.0  0.0      0.0  0.0  0.0  \n",
      "5531  0.000000  0.0    0.0  0.266727     0.0       0.0  0.0      0.0  0.0  0.0  \n",
      "\n",
      "[5532 rows x 876 columns]\n"
     ]
    }
   ],
   "source": [
    "#---- Normalizando e criando um novo dataframe ---- Com VALORES  TF-IDF\n",
    "tfidf = TfidfVectorizer()\n",
    "x = tfidf.fit_transform(arr)\n",
    "df_tfidf = pd.DataFrame(x.toarray(), columns=tfidf.get_feature_names())\n",
    "print(df_tfidf)\n",
    "\n",
    "df_tfidf.to_csv(\"representation_BOARN.csv\",index = False)\n"
   ]
  },
  {
   "cell_type": "code",
   "execution_count": 12,
   "metadata": {},
   "outputs": [
    {
     "data": {
      "text/plain": [
       "list"
      ]
     },
     "execution_count": 12,
     "metadata": {},
     "output_type": "execute_result"
    }
   ],
   "source": [
    "type(arr)"
   ]
  },
  {
   "cell_type": "code",
   "execution_count": 26,
   "metadata": {},
   "outputs": [],
   "source": [
    "df_text_bow= pd.DataFrame(arr)"
   ]
  },
  {
   "cell_type": "code",
   "execution_count": 32,
   "metadata": {},
   "outputs": [],
   "source": [
    "df_text_bow.columns = ['records']"
   ]
  },
  {
   "cell_type": "code",
   "execution_count": 34,
   "metadata": {},
   "outputs": [],
   "source": [
    "df_text_bow.to_csv(\"records_bow.csv\",index = False)\n"
   ]
  },
  {
   "cell_type": "code",
   "execution_count": null,
   "metadata": {},
   "outputs": [],
   "source": []
  }
 ],
 "metadata": {
  "kernelspec": {
   "display_name": "basicnotebook",
   "language": "python",
   "name": "basicnotebook"
  },
  "language_info": {
   "codemirror_mode": {
    "name": "ipython",
    "version": 3
   },
   "file_extension": ".py",
   "mimetype": "text/x-python",
   "name": "python",
   "nbconvert_exporter": "python",
   "pygments_lexer": "ipython3",
   "version": "3.6.9"
  }
 },
 "nbformat": 4,
 "nbformat_minor": 4
}
